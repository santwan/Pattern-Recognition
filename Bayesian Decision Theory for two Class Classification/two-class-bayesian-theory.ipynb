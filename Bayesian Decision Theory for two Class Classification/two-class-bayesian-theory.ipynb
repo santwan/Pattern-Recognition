{
 "cells": [
  {
   "cell_type": "markdown",
   "id": "0bfdf450-9c74-407b-9ba6-821e46de5485",
   "metadata": {},
   "source": [
    "# 2-Class Bayesian Decision Theory"
   ]
  },
  {
   "cell_type": "code",
   "execution_count": 3,
   "id": "e7a392b5-0d89-478a-8fd3-b44e8221462e",
   "metadata": {},
   "outputs": [],
   "source": [
    "def bayesian_decision_verbose(P_x_given_w1, P_x_given_w2, P_w1, P_w2,\n",
    "                              lambda11, lambda12, lambda21, lambda22):\n",
    "    \"\"\"\n",
    "    Bayesian Decision Rule for 2-Class classification with detailed output.\n",
    "    \n",
    "    Returns:\n",
    "        A dictionary with:\n",
    "            - posterior probabilities\n",
    "            - expected losses (conditional risks)\n",
    "            - final decision\n",
    "    \"\"\"\n",
    "\n",
    "    # Posterior probabilities using Bayes' theorem\n",
    "    evidence = P_x_given_w1 * P_w1 + P_x_given_w2 * P_w2\n",
    "    P_omega1_given_x = (P_x_given_w1 * P_w1) / evidence\n",
    "    P_omega2_given_x = (P_x_given_w2 * P_w2) / evidence\n",
    "\n",
    "    # Expected Loss (Conditional Risk) calculations\n",
    "    R_alpha1 = lambda11 * P_omega1_given_x + lambda12 * P_omega2_given_x\n",
    "    R_alpha2 = lambda21 * P_omega1_given_x + lambda22 * P_omega2_given_x\n",
    "\n",
    "    # Decision\n",
    "    decision = 1 if R_alpha1 < R_alpha2 else 2\n",
    "\n",
    "    # Return all intermediate values for transparency\n",
    "    return {\n",
    "        \"P(ω1|X)\": round(P_omega1_given_x, 4),\n",
    "        \"P(ω2|X)\": round(P_omega2_given_x, 4),\n",
    "        \"R(α1|X)\": round(R_alpha1, 4),\n",
    "        \"R(α2|X)\": round(R_alpha2, 4),\n",
    "        \"Decision\": f\"ω{decision}\"\n",
    "    }\n"
   ]
  },
  {
   "cell_type": "code",
   "execution_count": 4,
   "id": "a547cc3e-dfbe-4fa6-86b6-8537b1540ca2",
   "metadata": {},
   "outputs": [
    {
     "name": "stdout",
     "output_type": "stream",
     "text": [
      "P(ω1|X): 0.7\n",
      "P(ω2|X): 0.3\n",
      "R(α1|X): 0.9\n",
      "R(α2|X): 7.0\n",
      "Decision: ω1\n"
     ]
    }
   ],
   "source": [
    "# Example values\n",
    "result = bayesian_decision_verbose(\n",
    "    P_x_given_w1=0.7,\n",
    "    P_x_given_w2=0.2,\n",
    "    P_w1=0.4,\n",
    "    P_w2=0.6,\n",
    "    lambda11=0,\n",
    "    lambda12=3,\n",
    "    lambda21=10,\n",
    "    lambda22=0\n",
    ")\n",
    "\n",
    "# Print all internal values\n",
    "for key, value in result.items():\n",
    "    print(f\"{key}: {value}\")\n"
   ]
  },
  {
   "cell_type": "code",
   "execution_count": null,
   "id": "e7a8622c-65ff-440c-8e7c-06763a3fa4bc",
   "metadata": {},
   "outputs": [],
   "source": []
  }
 ],
 "metadata": {
  "kernelspec": {
   "display_name": "Python 3 (ipykernel)",
   "language": "python",
   "name": "python3"
  },
  "language_info": {
   "codemirror_mode": {
    "name": "ipython",
    "version": 3
   },
   "file_extension": ".py",
   "mimetype": "text/x-python",
   "name": "python",
   "nbconvert_exporter": "python",
   "pygments_lexer": "ipython3",
   "version": "3.13.1"
  }
 },
 "nbformat": 4,
 "nbformat_minor": 5
}
